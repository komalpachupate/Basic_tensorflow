{
 "cells": [
  {
   "cell_type": "code",
   "execution_count": 1,
   "metadata": {},
   "outputs": [],
   "source": [
    "import tensorflow as tf\n",
    "from tensorflow import keras\n",
    "import pandas as pd\n",
    "import numpy as np\n",
    "from keras.preprocessing.sequence import TimeseriesGenerator\n",
    "from sklearn.preprocessing import MinMaxScaler"
   ]
  },
  {
   "cell_type": "code",
   "execution_count": 2,
   "metadata": {},
   "outputs": [
    {
     "data": {
      "text/html": [
       "<div>\n",
       "<style scoped>\n",
       "    .dataframe tbody tr th:only-of-type {\n",
       "        vertical-align: middle;\n",
       "    }\n",
       "\n",
       "    .dataframe tbody tr th {\n",
       "        vertical-align: top;\n",
       "    }\n",
       "\n",
       "    .dataframe thead th {\n",
       "        text-align: right;\n",
       "    }\n",
       "</style>\n",
       "<table border=\"1\" class=\"dataframe\">\n",
       "  <thead>\n",
       "    <tr style=\"text-align: right;\">\n",
       "      <th></th>\n",
       "      <th>Sno</th>\n",
       "      <th>Time</th>\n",
       "      <th>State/UnionTerritory</th>\n",
       "      <th>ConfirmedIndianNational</th>\n",
       "      <th>ConfirmedForeignNational</th>\n",
       "      <th>Cured</th>\n",
       "      <th>Deaths</th>\n",
       "      <th>Confirmed</th>\n",
       "    </tr>\n",
       "    <tr>\n",
       "      <th>Date</th>\n",
       "      <th></th>\n",
       "      <th></th>\n",
       "      <th></th>\n",
       "      <th></th>\n",
       "      <th></th>\n",
       "      <th></th>\n",
       "      <th></th>\n",
       "      <th></th>\n",
       "    </tr>\n",
       "  </thead>\n",
       "  <tbody>\n",
       "    <tr>\n",
       "      <th>2020-01-30</th>\n",
       "      <td>1.0</td>\n",
       "      <td>6:00 PM</td>\n",
       "      <td>Kerala</td>\n",
       "      <td>1</td>\n",
       "      <td>0</td>\n",
       "      <td>0.0</td>\n",
       "      <td>0.0</td>\n",
       "      <td>1.0</td>\n",
       "    </tr>\n",
       "    <tr>\n",
       "      <th>2020-01-31</th>\n",
       "      <td>2.0</td>\n",
       "      <td>6:00 PM</td>\n",
       "      <td>Kerala</td>\n",
       "      <td>1</td>\n",
       "      <td>0</td>\n",
       "      <td>0.0</td>\n",
       "      <td>0.0</td>\n",
       "      <td>1.0</td>\n",
       "    </tr>\n",
       "    <tr>\n",
       "      <th>2020-02-01</th>\n",
       "      <td>3.0</td>\n",
       "      <td>6:00 PM</td>\n",
       "      <td>Kerala</td>\n",
       "      <td>2</td>\n",
       "      <td>0</td>\n",
       "      <td>0.0</td>\n",
       "      <td>0.0</td>\n",
       "      <td>2.0</td>\n",
       "    </tr>\n",
       "    <tr>\n",
       "      <th>2020-02-02</th>\n",
       "      <td>4.0</td>\n",
       "      <td>6:00 PM</td>\n",
       "      <td>Kerala</td>\n",
       "      <td>3</td>\n",
       "      <td>0</td>\n",
       "      <td>0.0</td>\n",
       "      <td>0.0</td>\n",
       "      <td>3.0</td>\n",
       "    </tr>\n",
       "    <tr>\n",
       "      <th>2020-02-03</th>\n",
       "      <td>5.0</td>\n",
       "      <td>6:00 PM</td>\n",
       "      <td>Kerala</td>\n",
       "      <td>3</td>\n",
       "      <td>0</td>\n",
       "      <td>0.0</td>\n",
       "      <td>0.0</td>\n",
       "      <td>3.0</td>\n",
       "    </tr>\n",
       "  </tbody>\n",
       "</table>\n",
       "</div>"
      ],
      "text/plain": [
       "            Sno     Time State/UnionTerritory ConfirmedIndianNational  \\\n",
       "Date                                                                    \n",
       "2020-01-30  1.0  6:00 PM               Kerala                       1   \n",
       "2020-01-31  2.0  6:00 PM               Kerala                       1   \n",
       "2020-02-01  3.0  6:00 PM               Kerala                       2   \n",
       "2020-02-02  4.0  6:00 PM               Kerala                       3   \n",
       "2020-02-03  5.0  6:00 PM               Kerala                       3   \n",
       "\n",
       "           ConfirmedForeignNational  Cured  Deaths  Confirmed  \n",
       "Date                                                           \n",
       "2020-01-30                        0    0.0     0.0        1.0  \n",
       "2020-01-31                        0    0.0     0.0        1.0  \n",
       "2020-02-01                        0    0.0     0.0        2.0  \n",
       "2020-02-02                        0    0.0     0.0        3.0  \n",
       "2020-02-03                        0    0.0     0.0        3.0  "
      ]
     },
     "execution_count": 2,
     "metadata": {},
     "output_type": "execute_result"
    }
   ],
   "source": [
    "import os\n",
    "os.chdir(r'C:\\Users\\Komal\\Downloads\\Datasets')\n",
    "df=pd.read_csv('covid_19_india.csv',parse_dates=['Date'],index_col='Date')\n",
    "df.head()"
   ]
  },
  {
   "cell_type": "code",
   "execution_count": 3,
   "metadata": {},
   "outputs": [
    {
     "data": {
      "text/plain": [
       "DatetimeIndex(['2020-01-30', '2020-01-31', '2020-02-01', '2020-02-02',\n",
       "               '2020-02-03', '2020-02-04', '2020-02-05', '2020-02-06',\n",
       "               '2020-02-07', '2020-02-08',\n",
       "               ...\n",
       "               '2021-04-26', '2021-04-26', '2021-04-26', '2021-04-26',\n",
       "               '2021-04-26',        'NaT',        'NaT',        'NaT',\n",
       "                      'NaT',        'NaT'],\n",
       "              dtype='datetime64[ns]', name='Date', length=14263, freq=None)"
      ]
     },
     "execution_count": 3,
     "metadata": {},
     "output_type": "execute_result"
    }
   ],
   "source": [
    "df.index"
   ]
  },
  {
   "cell_type": "code",
   "execution_count": 5,
   "metadata": {},
   "outputs": [
    {
     "data": {
      "text/plain": [
       "(14263, 8)"
      ]
     },
     "execution_count": 5,
     "metadata": {},
     "output_type": "execute_result"
    }
   ],
   "source": [
    "df.shape"
   ]
  },
  {
   "cell_type": "code",
   "execution_count": 6,
   "metadata": {},
   "outputs": [
    {
     "name": "stdout",
     "output_type": "stream",
     "text": [
      "<class 'pandas.core.frame.DataFrame'>\n",
      "DatetimeIndex: 14263 entries, 2020-01-30 to NaT\n",
      "Data columns (total 8 columns):\n",
      " #   Column                    Non-Null Count  Dtype  \n",
      "---  ------                    --------------  -----  \n",
      " 0   Sno                       14258 non-null  float64\n",
      " 1   Time                      14258 non-null  object \n",
      " 2   State/UnionTerritory      14258 non-null  object \n",
      " 3   ConfirmedIndianNational   14258 non-null  object \n",
      " 4   ConfirmedForeignNational  14258 non-null  object \n",
      " 5   Cured                     14258 non-null  float64\n",
      " 6   Deaths                    14258 non-null  float64\n",
      " 7   Confirmed                 14258 non-null  float64\n",
      "dtypes: float64(4), object(4)\n",
      "memory usage: 1002.9+ KB\n"
     ]
    }
   ],
   "source": [
    "df.info()"
   ]
  },
  {
   "cell_type": "code",
   "execution_count": 7,
   "metadata": {},
   "outputs": [
    {
     "data": {
      "text/html": [
       "<div>\n",
       "<style scoped>\n",
       "    .dataframe tbody tr th:only-of-type {\n",
       "        vertical-align: middle;\n",
       "    }\n",
       "\n",
       "    .dataframe tbody tr th {\n",
       "        vertical-align: top;\n",
       "    }\n",
       "\n",
       "    .dataframe thead th {\n",
       "        text-align: right;\n",
       "    }\n",
       "</style>\n",
       "<table border=\"1\" class=\"dataframe\">\n",
       "  <thead>\n",
       "    <tr style=\"text-align: right;\">\n",
       "      <th></th>\n",
       "      <th>Sno</th>\n",
       "      <th>Cured</th>\n",
       "      <th>Deaths</th>\n",
       "      <th>Confirmed</th>\n",
       "    </tr>\n",
       "  </thead>\n",
       "  <tbody>\n",
       "    <tr>\n",
       "      <th>count</th>\n",
       "      <td>14258.000000</td>\n",
       "      <td>1.425800e+04</td>\n",
       "      <td>14258.000000</td>\n",
       "      <td>1.425800e+04</td>\n",
       "    </tr>\n",
       "    <tr>\n",
       "      <th>mean</th>\n",
       "      <td>7129.500000</td>\n",
       "      <td>1.558098e+05</td>\n",
       "      <td>2493.646865</td>\n",
       "      <td>1.704529e+05</td>\n",
       "    </tr>\n",
       "    <tr>\n",
       "      <th>std</th>\n",
       "      <td>4116.074404</td>\n",
       "      <td>3.147152e+05</td>\n",
       "      <td>6654.411851</td>\n",
       "      <td>3.444210e+05</td>\n",
       "    </tr>\n",
       "    <tr>\n",
       "      <th>min</th>\n",
       "      <td>1.000000</td>\n",
       "      <td>0.000000e+00</td>\n",
       "      <td>0.000000</td>\n",
       "      <td>0.000000e+00</td>\n",
       "    </tr>\n",
       "    <tr>\n",
       "      <th>25%</th>\n",
       "      <td>3565.250000</td>\n",
       "      <td>1.273250e+03</td>\n",
       "      <td>10.000000</td>\n",
       "      <td>2.405500e+03</td>\n",
       "    </tr>\n",
       "    <tr>\n",
       "      <th>50%</th>\n",
       "      <td>7129.500000</td>\n",
       "      <td>1.678300e+04</td>\n",
       "      <td>324.500000</td>\n",
       "      <td>2.138400e+04</td>\n",
       "    </tr>\n",
       "    <tr>\n",
       "      <th>75%</th>\n",
       "      <td>10693.750000</td>\n",
       "      <td>1.819845e+05</td>\n",
       "      <td>1919.000000</td>\n",
       "      <td>2.090688e+05</td>\n",
       "    </tr>\n",
       "    <tr>\n",
       "      <th>max</th>\n",
       "      <td>14258.000000</td>\n",
       "      <td>3.530060e+06</td>\n",
       "      <td>64760.000000</td>\n",
       "      <td>4.295027e+06</td>\n",
       "    </tr>\n",
       "  </tbody>\n",
       "</table>\n",
       "</div>"
      ],
      "text/plain": [
       "                Sno         Cured        Deaths     Confirmed\n",
       "count  14258.000000  1.425800e+04  14258.000000  1.425800e+04\n",
       "mean    7129.500000  1.558098e+05   2493.646865  1.704529e+05\n",
       "std     4116.074404  3.147152e+05   6654.411851  3.444210e+05\n",
       "min        1.000000  0.000000e+00      0.000000  0.000000e+00\n",
       "25%     3565.250000  1.273250e+03     10.000000  2.405500e+03\n",
       "50%     7129.500000  1.678300e+04    324.500000  2.138400e+04\n",
       "75%    10693.750000  1.819845e+05   1919.000000  2.090688e+05\n",
       "max    14258.000000  3.530060e+06  64760.000000  4.295027e+06"
      ]
     },
     "execution_count": 7,
     "metadata": {},
     "output_type": "execute_result"
    }
   ],
   "source": [
    "df.describe()"
   ]
  },
  {
   "cell_type": "code",
   "execution_count": 4,
   "metadata": {},
   "outputs": [
    {
     "data": {
      "text/plain": [
       "Index(['Sno', 'Time', 'State/UnionTerritory', 'ConfirmedIndianNational',\n",
       "       'ConfirmedForeignNational', 'Cured', 'Deaths', 'Confirmed'],\n",
       "      dtype='object')"
      ]
     },
     "execution_count": 4,
     "metadata": {},
     "output_type": "execute_result"
    }
   ],
   "source": [
    "df.columns"
   ]
  },
  {
   "cell_type": "code",
   "execution_count": 8,
   "metadata": {},
   "outputs": [],
   "source": [
    "df.drop(['Sno','Time'],axis=1,inplace=True)"
   ]
  },
  {
   "cell_type": "code",
   "execution_count": 9,
   "metadata": {},
   "outputs": [],
   "source": [
    "df.drop(['ConfirmedIndianNational','ConfirmedForeignNational'],axis=1,inplace=True)"
   ]
  },
  {
   "cell_type": "code",
   "execution_count": 10,
   "metadata": {},
   "outputs": [
    {
     "data": {
      "text/html": [
       "<div>\n",
       "<style scoped>\n",
       "    .dataframe tbody tr th:only-of-type {\n",
       "        vertical-align: middle;\n",
       "    }\n",
       "\n",
       "    .dataframe tbody tr th {\n",
       "        vertical-align: top;\n",
       "    }\n",
       "\n",
       "    .dataframe thead th {\n",
       "        text-align: right;\n",
       "    }\n",
       "</style>\n",
       "<table border=\"1\" class=\"dataframe\">\n",
       "  <thead>\n",
       "    <tr style=\"text-align: right;\">\n",
       "      <th></th>\n",
       "      <th>State/UnionTerritory</th>\n",
       "      <th>Cured</th>\n",
       "      <th>Deaths</th>\n",
       "      <th>Confirmed</th>\n",
       "    </tr>\n",
       "    <tr>\n",
       "      <th>Date</th>\n",
       "      <th></th>\n",
       "      <th></th>\n",
       "      <th></th>\n",
       "      <th></th>\n",
       "    </tr>\n",
       "  </thead>\n",
       "  <tbody>\n",
       "    <tr>\n",
       "      <th>2020-01-30</th>\n",
       "      <td>Kerala</td>\n",
       "      <td>0.0</td>\n",
       "      <td>0.0</td>\n",
       "      <td>1.0</td>\n",
       "    </tr>\n",
       "    <tr>\n",
       "      <th>2020-01-31</th>\n",
       "      <td>Kerala</td>\n",
       "      <td>0.0</td>\n",
       "      <td>0.0</td>\n",
       "      <td>1.0</td>\n",
       "    </tr>\n",
       "    <tr>\n",
       "      <th>2020-02-01</th>\n",
       "      <td>Kerala</td>\n",
       "      <td>0.0</td>\n",
       "      <td>0.0</td>\n",
       "      <td>2.0</td>\n",
       "    </tr>\n",
       "    <tr>\n",
       "      <th>2020-02-02</th>\n",
       "      <td>Kerala</td>\n",
       "      <td>0.0</td>\n",
       "      <td>0.0</td>\n",
       "      <td>3.0</td>\n",
       "    </tr>\n",
       "    <tr>\n",
       "      <th>2020-02-03</th>\n",
       "      <td>Kerala</td>\n",
       "      <td>0.0</td>\n",
       "      <td>0.0</td>\n",
       "      <td>3.0</td>\n",
       "    </tr>\n",
       "  </tbody>\n",
       "</table>\n",
       "</div>"
      ],
      "text/plain": [
       "           State/UnionTerritory  Cured  Deaths  Confirmed\n",
       "Date                                                     \n",
       "2020-01-30               Kerala    0.0     0.0        1.0\n",
       "2020-01-31               Kerala    0.0     0.0        1.0\n",
       "2020-02-01               Kerala    0.0     0.0        2.0\n",
       "2020-02-02               Kerala    0.0     0.0        3.0\n",
       "2020-02-03               Kerala    0.0     0.0        3.0"
      ]
     },
     "execution_count": 10,
     "metadata": {},
     "output_type": "execute_result"
    }
   ],
   "source": [
    "df.head()"
   ]
  },
  {
   "cell_type": "code",
   "execution_count": 11,
   "metadata": {},
   "outputs": [
    {
     "data": {
      "text/plain": [
       "<AxesSubplot:xlabel='Date'>"
      ]
     },
     "execution_count": 11,
     "metadata": {},
     "output_type": "execute_result"
    },
    {
     "data": {
      "image/png": "[encoded data removed]",
      "text/plain": [
       "<Figure size 576x432 with 1 Axes>"
      ]
     },
     "metadata": {
      "needs_background": "light"
     },
     "output_type": "display_data"
    }
   ],
   "source": [
    "a=df['Deaths']\n",
    "a.plot(figsize=(8,6),grid=True)"
   ]
  },
  {
   "cell_type": "code",
   "execution_count": 13,
   "metadata": {},
   "outputs": [
    {
     "data": {
      "text/plain": [
       "array([<AxesSubplot:xlabel='Date'>, <AxesSubplot:xlabel='Date'>],\n",
       "      dtype=object)"
      ]
     },
     "execution_count": 13,
     "metadata": {},
     "output_type": "execute_result"
    },
    {
     "data": {
      "image/png": "[encoded data removed]",
      "text/plain": [
       "<Figure size 432x288 with 2 Axes>"
      ]
     },
     "metadata": {
      "needs_background": "light"
     },
     "output_type": "display_data"
    }
   ],
   "source": [
    "df[['Cured','Confirmed']].plot(subplots=True,grid=True)"
   ]
  },
  {
   "cell_type": "code",
   "execution_count": 14,
   "metadata": {},
   "outputs": [],
   "source": [
    "data=df.groupby('State/UnionTerritory').sum()"
   ]
  },
  {
   "cell_type": "code",
   "execution_count": 15,
   "metadata": {},
   "outputs": [
    {
     "data": {
      "text/html": [
       "<div>\n",
       "<style scoped>\n",
       "    .dataframe tbody tr th:only-of-type {\n",
       "        vertical-align: middle;\n",
       "    }\n",
       "\n",
       "    .dataframe tbody tr th {\n",
       "        vertical-align: top;\n",
       "    }\n",
       "\n",
       "    .dataframe thead th {\n",
       "        text-align: right;\n",
       "    }\n",
       "</style>\n",
       "<table border=\"1\" class=\"dataframe\">\n",
       "  <thead>\n",
       "    <tr style=\"text-align: right;\">\n",
       "      <th></th>\n",
       "      <th>Cured</th>\n",
       "      <th>Deaths</th>\n",
       "      <th>Confirmed</th>\n",
       "    </tr>\n",
       "    <tr>\n",
       "      <th>State/UnionTerritory</th>\n",
       "      <th></th>\n",
       "      <th></th>\n",
       "      <th></th>\n",
       "    </tr>\n",
       "  </thead>\n",
       "  <tbody>\n",
       "    <tr>\n",
       "      <th>Andaman and Nicobar Islands</th>\n",
       "      <td>1111474.0</td>\n",
       "      <td>14991.0</td>\n",
       "      <td>1178472.0</td>\n",
       "    </tr>\n",
       "    <tr>\n",
       "      <th>Andhra Pradesh</th>\n",
       "      <td>197804937.0</td>\n",
       "      <td>1707018.0</td>\n",
       "      <td>208691274.0</td>\n",
       "    </tr>\n",
       "    <tr>\n",
       "      <th>Arunachal Pradesh</th>\n",
       "      <td>3386778.0</td>\n",
       "      <td>10986.0</td>\n",
       "      <td>3635358.0</td>\n",
       "    </tr>\n",
       "    <tr>\n",
       "      <th>Assam</th>\n",
       "      <td>48463777.0</td>\n",
       "      <td>234992.0</td>\n",
       "      <td>51802406.0</td>\n",
       "    </tr>\n",
       "    <tr>\n",
       "      <th>Bihar</th>\n",
       "      <td>57247252.0</td>\n",
       "      <td>331985.0</td>\n",
       "      <td>60675812.0</td>\n",
       "    </tr>\n",
       "    <tr>\n",
       "      <th>Cases being reassigned to states</th>\n",
       "      <td>0.0</td>\n",
       "      <td>0.0</td>\n",
       "      <td>345565.0</td>\n",
       "    </tr>\n",
       "    <tr>\n",
       "      <th>Chandigarh</th>\n",
       "      <td>4196706.0</td>\n",
       "      <td>68938.0</td>\n",
       "      <td>4611021.0</td>\n",
       "    </tr>\n",
       "    <tr>\n",
       "      <th>Chhattisgarh</th>\n",
       "      <td>55246657.0</td>\n",
       "      <td>715458.0</td>\n",
       "      <td>61989356.0</td>\n",
       "    </tr>\n",
       "    <tr>\n",
       "      <th>Dadra and Nagar Haveli and Daman and Diu</th>\n",
       "      <td>831176.0</td>\n",
       "      <td>594.0</td>\n",
       "      <td>885106.0</td>\n",
       "    </tr>\n",
       "    <tr>\n",
       "      <th>Daman &amp; Diu</th>\n",
       "      <td>0.0</td>\n",
       "      <td>0.0</td>\n",
       "      <td>2.0</td>\n",
       "    </tr>\n",
       "    <tr>\n",
       "      <th>Delhi</th>\n",
       "      <td>128934298.0</td>\n",
       "      <td>2440997.0</td>\n",
       "      <td>137840364.0</td>\n",
       "    </tr>\n",
       "    <tr>\n",
       "      <th>Goa</th>\n",
       "      <td>11024361.0</td>\n",
       "      <td>164104.0</td>\n",
       "      <td>11904502.0</td>\n",
       "    </tr>\n",
       "    <tr>\n",
       "      <th>Gujarat</th>\n",
       "      <td>54004966.0</td>\n",
       "      <td>1195885.0</td>\n",
       "      <td>59725333.0</td>\n",
       "    </tr>\n",
       "    <tr>\n",
       "      <th>Haryana</th>\n",
       "      <td>52940936.0</td>\n",
       "      <td>616207.0</td>\n",
       "      <td>56804395.0</td>\n",
       "    </tr>\n",
       "    <tr>\n",
       "      <th>Himachal Pradesh</th>\n",
       "      <td>9584698.0</td>\n",
       "      <td>169982.0</td>\n",
       "      <td>10631409.0</td>\n",
       "    </tr>\n",
       "    <tr>\n",
       "      <th>Jammu and Kashmir</th>\n",
       "      <td>25091781.0</td>\n",
       "      <td>426622.0</td>\n",
       "      <td>27446614.0</td>\n",
       "    </tr>\n",
       "    <tr>\n",
       "      <th>Jharkhand</th>\n",
       "      <td>25008479.0</td>\n",
       "      <td>241924.0</td>\n",
       "      <td>27034585.0</td>\n",
       "    </tr>\n",
       "    <tr>\n",
       "      <th>Karnataka</th>\n",
       "      <td>195919331.0</td>\n",
       "      <td>2855860.0</td>\n",
       "      <td>213411737.0</td>\n",
       "    </tr>\n",
       "    <tr>\n",
       "      <th>Kerala</th>\n",
       "      <td>154830947.0</td>\n",
       "      <td>672321.0</td>\n",
       "      <td>171031630.0</td>\n",
       "    </tr>\n",
       "    <tr>\n",
       "      <th>Ladakh</th>\n",
       "      <td>1863675.0</td>\n",
       "      <td>25556.0</td>\n",
       "      <td>2058551.0</td>\n",
       "    </tr>\n",
       "    <tr>\n",
       "      <th>Lakshadweep</th>\n",
       "      <td>37661.0</td>\n",
       "      <td>60.0</td>\n",
       "      <td>52296.0</td>\n",
       "    </tr>\n",
       "    <tr>\n",
       "      <th>Madhya Pradesh</th>\n",
       "      <td>50645563.0</td>\n",
       "      <td>872510.0</td>\n",
       "      <td>55623179.0</td>\n",
       "    </tr>\n",
       "    <tr>\n",
       "      <th>Maharashtra</th>\n",
       "      <td>442749568.0</td>\n",
       "      <td>12360636.0</td>\n",
       "      <td>507527814.0</td>\n",
       "    </tr>\n",
       "    <tr>\n",
       "      <th>Manipur</th>\n",
       "      <td>5284046.0</td>\n",
       "      <td>64914.0</td>\n",
       "      <td>5781893.0</td>\n",
       "    </tr>\n",
       "    <tr>\n",
       "      <th>Meghalaya</th>\n",
       "      <td>2528412.0</td>\n",
       "      <td>27462.0</td>\n",
       "      <td>2769191.0</td>\n",
       "    </tr>\n",
       "    <tr>\n",
       "      <th>Mizoram</th>\n",
       "      <td>821044.0</td>\n",
       "      <td>1480.0</td>\n",
       "      <td>893636.0</td>\n",
       "    </tr>\n",
       "    <tr>\n",
       "      <th>Nagaland</th>\n",
       "      <td>2374467.0</td>\n",
       "      <td>15522.0</td>\n",
       "      <td>2596171.0</td>\n",
       "    </tr>\n",
       "    <tr>\n",
       "      <th>Odisha</th>\n",
       "      <td>70520272.0</td>\n",
       "      <td>390255.0</td>\n",
       "      <td>74150327.0</td>\n",
       "    </tr>\n",
       "    <tr>\n",
       "      <th>Puducherry</th>\n",
       "      <td>8190129.0</td>\n",
       "      <td>148674.0</td>\n",
       "      <td>8900563.0</td>\n",
       "    </tr>\n",
       "    <tr>\n",
       "      <th>Punjab</th>\n",
       "      <td>36619643.0</td>\n",
       "      <td>1240974.0</td>\n",
       "      <td>40892956.0</td>\n",
       "    </tr>\n",
       "    <tr>\n",
       "      <th>Rajasthan</th>\n",
       "      <td>61074663.0</td>\n",
       "      <td>616757.0</td>\n",
       "      <td>66361119.0</td>\n",
       "    </tr>\n",
       "    <tr>\n",
       "      <th>Sikkim</th>\n",
       "      <td>1130035.0</td>\n",
       "      <td>24229.0</td>\n",
       "      <td>1241051.0</td>\n",
       "    </tr>\n",
       "    <tr>\n",
       "      <th>Tamil Nadu</th>\n",
       "      <td>189186642.0</td>\n",
       "      <td>3009785.0</td>\n",
       "      <td>201538405.0</td>\n",
       "    </tr>\n",
       "    <tr>\n",
       "      <th>Telengana</th>\n",
       "      <td>62912524.0</td>\n",
       "      <td>389402.0</td>\n",
       "      <td>67851871.0</td>\n",
       "    </tr>\n",
       "    <tr>\n",
       "      <th>Tripura</th>\n",
       "      <td>7149314.0</td>\n",
       "      <td>85994.0</td>\n",
       "      <td>7699707.0</td>\n",
       "    </tr>\n",
       "    <tr>\n",
       "      <th>Unassigned</th>\n",
       "      <td>0.0</td>\n",
       "      <td>0.0</td>\n",
       "      <td>161.0</td>\n",
       "    </tr>\n",
       "    <tr>\n",
       "      <th>Uttar Pradesh</th>\n",
       "      <td>124957996.0</td>\n",
       "      <td>1963415.0</td>\n",
       "      <td>136980682.0</td>\n",
       "    </tr>\n",
       "    <tr>\n",
       "      <th>Uttarakhand</th>\n",
       "      <td>17916777.0</td>\n",
       "      <td>318198.0</td>\n",
       "      <td>19659968.0</td>\n",
       "    </tr>\n",
       "    <tr>\n",
       "      <th>West Bengal</th>\n",
       "      <td>109944742.0</td>\n",
       "      <td>2129730.0</td>\n",
       "      <td>118093062.0</td>\n",
       "    </tr>\n",
       "  </tbody>\n",
       "</table>\n",
       "</div>"
      ],
      "text/plain": [
       "                                                Cured      Deaths    Confirmed\n",
       "State/UnionTerritory                                                          \n",
       "Andaman and Nicobar Islands                 1111474.0     14991.0    1178472.0\n",
       "Andhra Pradesh                            197804937.0   1707018.0  208691274.0\n",
       "Arunachal Pradesh                           3386778.0     10986.0    3635358.0\n",
       "Assam                                      48463777.0    234992.0   51802406.0\n",
       "Bihar                                      57247252.0    331985.0   60675812.0\n",
       "Cases being reassigned to states                  0.0         0.0     345565.0\n",
       "Chandigarh                                  4196706.0     68938.0    4611021.0\n",
       "Chhattisgarh                               55246657.0    715458.0   61989356.0\n",
       "Dadra and Nagar Haveli and Daman and Diu     831176.0       594.0     885106.0\n",
       "Daman & Diu                                       0.0         0.0          2.0\n",
       "Delhi                                     128934298.0   2440997.0  137840364.0\n",
       "Goa                                        11024361.0    164104.0   11904502.0\n",
       "Gujarat                                    54004966.0   1195885.0   59725333.0\n",
       "Haryana                                    52940936.0    616207.0   56804395.0\n",
       "Himachal Pradesh                            9584698.0    169982.0   10631409.0\n",
       "Jammu and Kashmir                          25091781.0    426622.0   27446614.0\n",
       "Jharkhand                                  25008479.0    241924.0   27034585.0\n",
       "Karnataka                                 195919331.0   2855860.0  213411737.0\n",
       "Kerala                                    154830947.0    672321.0  171031630.0\n",
       "Ladakh                                      1863675.0     25556.0    2058551.0\n",
       "Lakshadweep                                   37661.0        60.0      52296.0\n",
       "Madhya Pradesh                             50645563.0    872510.0   55623179.0\n",
       "Maharashtra                               442749568.0  12360636.0  507527814.0\n",
       "Manipur                                     5284046.0     64914.0    5781893.0\n",
       "Meghalaya                                   2528412.0     27462.0    2769191.0\n",
       "Mizoram                                      821044.0      1480.0     893636.0\n",
       "Nagaland                                    2374467.0     15522.0    2596171.0\n",
       "Odisha                                     70520272.0    390255.0   74150327.0\n",
       "Puducherry                                  8190129.0    148674.0    8900563.0\n",
       "Punjab                                     36619643.0   1240974.0   40892956.0\n",
       "Rajasthan                                  61074663.0    616757.0   66361119.0\n",
       "Sikkim                                      1130035.0     24229.0    1241051.0\n",
       "Tamil Nadu                                189186642.0   3009785.0  201538405.0\n",
       "Telengana                                  62912524.0    389402.0   67851871.0\n",
       "Tripura                                     7149314.0     85994.0    7699707.0\n",
       "Unassigned                                        0.0         0.0        161.0\n",
       "Uttar Pradesh                             124957996.0   1963415.0  136980682.0\n",
       "Uttarakhand                                17916777.0    318198.0   19659968.0\n",
       "West Bengal                               109944742.0   2129730.0  118093062.0"
      ]
     },
     "execution_count": 15,
     "metadata": {},
     "output_type": "execute_result"
    }
   ],
   "source": [
    "data"
   ]
  },
  {
   "cell_type": "code",
   "execution_count": 18,
   "metadata": {},
   "outputs": [
    {
     "data": {
      "image/png": "[encoded data removed]",
      "text/plain": [
       "<Figure size 864x648 with 3 Axes>"
      ]
     },
     "metadata": {
      "needs_background": "light"
     },
     "output_type": "display_data"
    }
   ],
   "source": [
    "data[['Cured','Deaths','Confirmed']].plot(subplots=True,figsize=(12,9),grid=True);"
   ]
  },
  {
   "cell_type": "code",
   "execution_count": 23,
   "metadata": {},
   "outputs": [
    {
     "data": {
      "text/plain": [
       "Cured        442749568.0\n",
       "Deaths        12360636.0\n",
       "Confirmed    507527814.0\n",
       "dtype: float64"
      ]
     },
     "execution_count": 23,
     "metadata": {},
     "output_type": "execute_result"
    }
   ],
   "source": [
    "data.max()"
   ]
  },
  {
   "cell_type": "code",
   "execution_count": 24,
   "metadata": {},
   "outputs": [],
   "source": [
    "train_size=int(len(data)*0.8)\n",
    "test_size=len(data)-train_size\n",
    "\n",
    "train,test=data.iloc[0:train_size],data.iloc[train_size:len(df)]"
   ]
  },
  {
   "cell_type": "code",
   "execution_count": 25,
   "metadata": {},
   "outputs": [],
   "source": [
    "#data=np.array(data).reshape(-1,1)\n",
    "sc=MinMaxScaler()\n",
    "scaled_data=sc.fit_transform(train,test)"
   ]
  },
  {
   "cell_type": "code",
   "execution_count": 27,
   "metadata": {},
   "outputs": [],
   "source": [
    "train_data=scaled_data[0:train_size]\n",
    "x_train=[]\n",
    "y_train=[]\n",
    "for i in range(10,len(train_data)):\n",
    "    x_train.append(train_data[i-10:i,0])\n",
    "    y_train.append(train_data[i,0])"
   ]
  },
  {
   "cell_type": "code",
   "execution_count": 28,
   "metadata": {},
   "outputs": [],
   "source": [
    "x_train,y_train=np.array(x_train),np.array(y_train)\n",
    "x_train=np.reshape(x_train,(x_train.shape))"
   ]
  },
  {
   "cell_type": "code",
   "execution_count": 26,
   "metadata": {},
   "outputs": [],
   "source": [
    "from keras.models import Sequential\n",
    "from keras.layers import Dense\n",
    "from keras.layers import LSTM\n",
    "from keras.layers import Dropout"
   ]
  },
  {
   "cell_type": "code",
   "execution_count": 33,
   "metadata": {},
   "outputs": [],
   "source": [
    "model=Sequential()\n",
    "\n",
    "model.add(LSTM(units=50, return_sequences=True))\n",
    "model.add(Dropout(0.2))\n",
    "\n",
    "model.add(LSTM(units=50, return_sequences=True))\n",
    "model.add(Dropout(0.2))\n",
    "\n",
    "model.add(LSTM(units=50, return_sequences=True))\n",
    "model.add(Dropout(0.2))\n",
    "\n",
    "model.add(Dense(units=1))"
   ]
  },
  {
   "cell_type": "code",
   "execution_count": null,
   "metadata": {},
   "outputs": [],
   "source": [
    "model.compile(optimizer='adam',loss='mean squared error')\n",
    "model.fit(x_train,y_train,epochs=30,batch_size=50)"
   ]
  },
  {
   "cell_type": "code",
   "execution_count": null,
   "metadata": {},
   "outputs": [],
   "source": []
  },
  {
   "cell_type": "code",
   "execution_count": null,
   "metadata": {},
   "outputs": [],
   "source": []
  },
  {
   "cell_type": "code",
   "execution_count": null,
   "metadata": {},
   "outputs": [],
   "source": []
  }
 ],
 "metadata": {
  "kernelspec": {
   "display_name": "Python 3",
   "language": "python",
   "name": "python3"
  },
  "language_info": {
   "codemirror_mode": {
    "name": "ipython",
    "version": 3
   },
   "file_extension": ".py",
   "mimetype": "text/x-python",
   "name": "python",
   "nbconvert_exporter": "python",
   "pygments_lexer": "ipython3",
   "version": "3.8.5"
  }
 },
 "nbformat": 4,
 "nbformat_minor": 5
}
