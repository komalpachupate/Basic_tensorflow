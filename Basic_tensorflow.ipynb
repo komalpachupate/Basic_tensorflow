{
  "nbformat": 4,
  "nbformat_minor": 0,
  "metadata": {
    "colab": {
      "name": "Basic_tensorflow.ipynb",
      "provenance": [],
      "collapsed_sections": []
    },
    "kernelspec": {
      "name": "python3",
      "display_name": "Python 3"
    },
    "language_info": {
      "name": "python"
    }
  },
  "cells": [
    {
      "cell_type": "code",
      "metadata": {
        "id": "UI423fvTKq0w"
      },
      "source": [
        "from IPython.core.interactiveshell import InteractiveShell\n",
        "InteractiveShell.ast_node_interactivity ='all'\n",
        "%matplotlib inline\n",
        "import sys\n",
        "import tensorflow as tf"
      ],
      "execution_count": 58,
      "outputs": []
    },
    {
      "cell_type": "code",
      "metadata": {
        "colab": {
          "base_uri": "https://localhost:8080/"
        },
        "id": "ubFAQrkV_s6D",
        "outputId": "899630cb-f6e4-4d72-e739-d4b03f79b91d"
      },
      "source": [
        "#tensors\n",
        "3  #rank 0 tensor ,scaler with shape []\n",
        "[1. ,2.,3.]  #rank 1, vector with shape[3]\n",
        "[[1.,2.,3.], [4. ,5.,6.]]  #rank 2 with matrix shape[2,3]\n",
        "[[[1.,2.,3.],[4., 5., 6.]]]  #rank 3 with shape[2,1,3]"
      ],
      "execution_count": 13,
      "outputs": [
        {
          "output_type": "execute_result",
          "data": {
            "text/plain": [
              "3"
            ]
          },
          "metadata": {
            "tags": []
          },
          "execution_count": 13
        },
        {
          "output_type": "execute_result",
          "data": {
            "text/plain": [
              "[1.0, 2.0, 3.0]"
            ]
          },
          "metadata": {
            "tags": []
          },
          "execution_count": 13
        },
        {
          "output_type": "execute_result",
          "data": {
            "text/plain": [
              "[[1.0, 2.0, 3.0], [4.0, 5.0, 6.0]]"
            ]
          },
          "metadata": {
            "tags": []
          },
          "execution_count": 13
        },
        {
          "output_type": "execute_result",
          "data": {
            "text/plain": [
              "[[[1.0, 2.0, 3.0], [4.0, 5.0, 6.0]]]"
            ]
          },
          "metadata": {
            "tags": []
          },
          "execution_count": 13
        }
      ]
    },
    {
      "cell_type": "code",
      "metadata": {
        "id": "zQArjn4m_tHY"
      },
      "source": [
        "#Constant=fixed value tensor"
      ],
      "execution_count": null,
      "outputs": []
    },
    {
      "cell_type": "code",
      "metadata": {
        "colab": {
          "base_uri": "https://localhost:8080/"
        },
        "id": "YuBbgMoE_tMo",
        "outputId": "fe9f3c40-6b36-4faa-f432-6693c3b0d8dc"
      },
      "source": [
        "node1=tf.constant(3.0, dtype=tf.float32)\n",
        "node2=tf.constant(4.0)\n",
        "print(node1,node2)"
      ],
      "execution_count": 26,
      "outputs": [
        {
          "output_type": "stream",
          "text": [
            "Tensor(\"Const:0\", shape=(), dtype=float32) Tensor(\"Const_1:0\", shape=(), dtype=float32)\n"
          ],
          "name": "stdout"
        }
      ]
    },
    {
      "cell_type": "code",
      "metadata": {
        "id": "OM8eJ4sq_tNv"
      },
      "source": [
        "tf.compat.v1.disable_eager_execution()\n",
        "sess = tf.compat.v1.Session()"
      ],
      "execution_count": 23,
      "outputs": []
    },
    {
      "cell_type": "code",
      "metadata": {
        "colab": {
          "base_uri": "https://localhost:8080/"
        },
        "id": "ZuvJrejrOB5X",
        "outputId": "10b1a0b3-d1c0-42a4-d794-6068d01df724"
      },
      "source": [
        "print(sess.run([node1, node2]))"
      ],
      "execution_count": 27,
      "outputs": [
        {
          "output_type": "stream",
          "text": [
            "[3.0, 4.0]\n"
          ],
          "name": "stdout"
        }
      ]
    },
    {
      "cell_type": "code",
      "metadata": {
        "colab": {
          "base_uri": "https://localhost:8080/"
        },
        "id": "040fIG-uOtGB",
        "outputId": "be24977d-c715-4257-9a96-30d3e7425de0"
      },
      "source": [
        "node3=tf.add(node1,node2)\n",
        "print('node3',node3)\n",
        "print(sess.run(node3))"
      ],
      "execution_count": 30,
      "outputs": [
        {
          "output_type": "stream",
          "text": [
            "node3 Tensor(\"Add:0\", shape=(), dtype=float32)\n",
            "7.0\n"
          ],
          "name": "stdout"
        }
      ]
    },
    {
      "cell_type": "code",
      "metadata": {
        "colab": {
          "base_uri": "https://localhost:8080/"
        },
        "id": "8WKTZBO8OtR1",
        "outputId": "63cae141-72cf-49ef-8577-55504e5c7617"
      },
      "source": [
        "node4=tf.subtract(node2,node1)\n",
        "print(node4)\n",
        "print(sess.run(node4))"
      ],
      "execution_count": 31,
      "outputs": [
        {
          "output_type": "stream",
          "text": [
            "Tensor(\"Sub:0\", shape=(), dtype=float32)\n",
            "1.0\n"
          ],
          "name": "stdout"
        }
      ]
    },
    {
      "cell_type": "code",
      "metadata": {
        "colab": {
          "base_uri": "https://localhost:8080/"
        },
        "id": "d43hBZTZOtS8",
        "outputId": "4ac7622a-2889-41d9-bed3-2605c2d90e53"
      },
      "source": [
        "x=tf.constant(4,shape=(1,1),dtype='float32')\n",
        "print(x)\n",
        "print(sess.run(x))"
      ],
      "execution_count": 35,
      "outputs": [
        {
          "output_type": "stream",
          "text": [
            "Tensor(\"Const_6:0\", shape=(1, 1), dtype=float32)\n",
            "[[4.]]\n"
          ],
          "name": "stdout"
        }
      ]
    },
    {
      "cell_type": "code",
      "metadata": {
        "colab": {
          "base_uri": "https://localhost:8080/"
        },
        "id": "_22smISpOtWL",
        "outputId": "cf7323ee-dcff-488c-f6a7-c24828bfa0d2"
      },
      "source": [
        "y=tf.constant([[1,2,3],[4,5,6]])\n",
        "print(sess.run(y))"
      ],
      "execution_count": 36,
      "outputs": [
        {
          "output_type": "stream",
          "text": [
            "[[1 2 3]\n",
            " [4 5 6]]\n"
          ],
          "name": "stdout"
        }
      ]
    },
    {
      "cell_type": "code",
      "metadata": {
        "colab": {
          "base_uri": "https://localhost:8080/"
        },
        "id": "bp89RajSOtXQ",
        "outputId": "54d8d06d-4c40-493d-c8ee-bfda8442a364"
      },
      "source": [
        "a=tf.zeros((3,2))\n",
        "b=tf.ones((3,3))   \n",
        "c=tf.eye(3)       #identical matrix\n",
        "print(sess.run(a))\n",
        "print(sess.run(b))\n",
        "print(sess.run(c))"
      ],
      "execution_count": 40,
      "outputs": [
        {
          "output_type": "stream",
          "text": [
            "[[0. 0.]\n",
            " [0. 0.]\n",
            " [0. 0.]]\n",
            "[[1. 1. 1.]\n",
            " [1. 1. 1.]\n",
            " [1. 1. 1.]]\n",
            "[[1. 0. 0.]\n",
            " [0. 1. 0.]\n",
            " [0. 0. 1.]]\n"
          ],
          "name": "stdout"
        }
      ]
    },
    {
      "cell_type": "code",
      "metadata": {
        "colab": {
          "base_uri": "https://localhost:8080/"
        },
        "id": "l7NFgCwPUuHZ",
        "outputId": "b375fc4b-2cd4-4564-a639-fd9cdb5ef779"
      },
      "source": [
        "a=tf.range(5)\n",
        "print(sess.run(a))"
      ],
      "execution_count": 42,
      "outputs": [
        {
          "output_type": "stream",
          "text": [
            "[0 1 2 3 4]\n"
          ],
          "name": "stdout"
        }
      ]
    },
    {
      "cell_type": "code",
      "metadata": {
        "colab": {
          "base_uri": "https://localhost:8080/"
        },
        "id": "fSz-66EcUuNP",
        "outputId": "cccfa7e6-5066-4487-b96a-b67ed52db804"
      },
      "source": [
        "#mathematical operation\n",
        "x=tf.constant([9,8,7])\n",
        "y=tf.constant([3,3,3])\n",
        "print(sess.run(x+y))    #also use z=add(x,y)\n",
        "print(sess.run(x-y))\n",
        "print(sess.run(x*y))\n",
        "print(sess.run(x/y))\n",
        "print(sess.run(x**2))"
      ],
      "execution_count": 46,
      "outputs": [
        {
          "output_type": "stream",
          "text": [
            "[12 11 10]\n",
            "[6 5 4]\n",
            "[27 24 21]\n",
            "[3.         2.66666667 2.33333333]\n",
            "[81 64 49]\n"
          ],
          "name": "stdout"
        }
      ]
    },
    {
      "cell_type": "code",
      "metadata": {
        "colab": {
          "base_uri": "https://localhost:8080/"
        },
        "id": "KFiiO67uUuOb",
        "outputId": "b449ec4b-1321-4d91-e42a-e5e28baa5415"
      },
      "source": [
        "#indexing \n",
        "x=tf.constant([2,3,6,7,8,3,2,4,67,89,5,333])\n",
        "print(sess.run(x[:]))\n",
        "print(sess.run(x[1:]))\n",
        "print(sess.run(x[1:6]))\n",
        "print(sess.run(x[::2]))\n",
        "print(sess.run(x[::-1]))"
      ],
      "execution_count": 52,
      "outputs": [
        {
          "output_type": "stream",
          "text": [
            "[  2   3   6   7   8   3   2   4  67  89   5 333]\n",
            "[  3   6   7   8   3   2   4  67  89   5 333]\n",
            "[3 6 7 8 3]\n",
            "[ 2  6  8  2 67  5]\n",
            "[333   5  89  67   4   2   3   8   7   6   3   2]\n"
          ],
          "name": "stdout"
        }
      ]
    },
    {
      "cell_type": "code",
      "metadata": {
        "colab": {
          "base_uri": "https://localhost:8080/"
        },
        "id": "NUNIv8S0UuSs",
        "outputId": "dae084bd-41d6-40f5-ae3b-c56a11f22c69"
      },
      "source": [
        "a=tf.constant([[1,2],[3,4],[5,6]])\n",
        "print(sess.run(a[0]))\n",
        "print(sess.run(a[0:2]))"
      ],
      "execution_count": 54,
      "outputs": [
        {
          "output_type": "stream",
          "text": [
            "[1 2]\n",
            "[[1 2]\n",
            " [3 4]]\n"
          ],
          "name": "stdout"
        }
      ]
    },
    {
      "cell_type": "code",
      "metadata": {
        "id": "pbK3nc4iUuT6"
      },
      "source": [
        "#placeholders=A graph can be parameterized to accept external inputs, known as placeholders\n",
        "import tensorflow.compat.v1 as tf\n",
        "tf.disable_v2_behavior()\n",
        "\n",
        "a = tf.placeholder(tf.float32)\n",
        "b = tf.placeholder(tf.float32)\n",
        "adder_node = a + b"
      ],
      "execution_count": 67,
      "outputs": []
    },
    {
      "cell_type": "code",
      "metadata": {
        "colab": {
          "base_uri": "https://localhost:8080/"
        },
        "id": "J8LtmUhWUuX3",
        "outputId": "496bc8b1-f758-4003-86b6-a2ddb18bc5f1"
      },
      "source": [
        "print(sess.run(adder_node, {a:3, b:6.8}))\n",
        "print(sess.run(adder_node, {a:[3,5],b:[9,8]}))"
      ],
      "execution_count": 63,
      "outputs": [
        {
          "output_type": "stream",
          "text": [
            "9.8\n",
            "[12. 13.]\n"
          ],
          "name": "stdout"
        }
      ]
    },
    {
      "cell_type": "code",
      "metadata": {
        "colab": {
          "base_uri": "https://localhost:8080/"
        },
        "id": "N87_4dQGlBmI",
        "outputId": "25cdc1e8-5b7f-4be5-9763-5cfaf2bf0421"
      },
      "source": [
        "adder_triplet=adder_node*3\n",
        "print(sess.run(adder_triplet, {a:7,b:65}))"
      ],
      "execution_count": 64,
      "outputs": [
        {
          "output_type": "stream",
          "text": [
            "216.0\n"
          ],
          "name": "stdout"
        }
      ]
    },
    {
      "cell_type": "code",
      "metadata": {
        "id": "TEAcAYa2lBn0"
      },
      "source": [
        "#Variable"
      ],
      "execution_count": 65,
      "outputs": []
    },
    {
      "cell_type": "code",
      "metadata": {
        "id": "zpiHW1hPlBwj"
      },
      "source": [
        "#Variables allow us to add trainable parameters to a graph.\n",
        "import tensorflow.compat.v1 as tf\n",
        "tf.disable_v2_behavior()\n",
        "\n",
        "w= tf.Variable([.3],dtype=tf.float32)\n",
        "b=tf.Variable([-.3],dtype=tf.float32)\n",
        "x = tf.placeholder(tf.float32)\n",
        "linear_model=w*x+b"
      ],
      "execution_count": 70,
      "outputs": []
    },
    {
      "cell_type": "code",
      "metadata": {
        "id": "dT4xobapUuZk"
      },
      "source": [
        "#Constants are initialized when you call tf.constant, and their value can never change. \n",
        "#By contrast, variables are not initialized when you call tf.Variable. To initialize \n",
        "#all the variables in a TensorFlow program, you must explicitly call a special \n",
        "#operation as follows"
      ],
      "execution_count": 71,
      "outputs": []
    },
    {
      "cell_type": "code",
      "metadata": {
        "colab": {
          "base_uri": "https://localhost:8080/"
        },
        "id": "8uCoiJS6UudP",
        "outputId": "bc2a6a5e-28d5-4228-a450-52b6583780a4"
      },
      "source": [
        "init= tf.global_variables_initializer()\n",
        "sess.run(init)\n",
        "print(sess.run(linear_model, {x:[1,2,3,4]}))"
      ],
      "execution_count": 73,
      "outputs": [
        {
          "output_type": "stream",
          "text": [
            "[0.         0.3        0.6        0.90000004]\n"
          ],
          "name": "stdout"
        }
      ]
    },
    {
      "cell_type": "code",
      "metadata": {
        "colab": {
          "base_uri": "https://localhost:8080/"
        },
        "id": "iU9vUpWi1qFd",
        "outputId": "293bd17d-c119-4fb4-8ed2-3daf2def1e75"
      },
      "source": [
        "#Complete Linear Regression model\n",
        "import numpy as np\n",
        "import tensorflow.compat.v1 as tf\n",
        "tf.disable_v2_behavior()\n",
        "\n",
        "#model parameter\n",
        "w=tf.Variable([.3], dtype=tf.float32)\n",
        "b=tf.Variable([-.3], dtype=tf.float32)\n",
        "x=tf.placeholder(tf.float32)\n",
        "linear_model=w*x+b\n",
        "y=tf.placeholder(tf.float32)\n",
        "\n",
        "#loss\n",
        "loss=tf.reduce_sum(tf.square(linear_model - y))\n",
        "\n",
        "#optimizer\n",
        "optimizer=tf.train.GradientDescentOptimizer(0.01)\n",
        "train=optimizer.minimize(loss)\n",
        "\n",
        "#training_data\n",
        "x_train=[1,2,3,4]\n",
        "y_train=[0,-1,-2,-3]\n",
        "\n",
        "#training_loop\n",
        "init=tf.global_variables_initializer()\n",
        "sess=tf.Session()\n",
        "sess.run(init)\n",
        "for i in range(1000):\n",
        "  sess.run(train, {x:x_train, y:y_train})\n",
        "\n",
        "#evaluating training accuracy\n",
        "curr_W,curr_b,curr_loss= sess.run([w, b, loss], {x:x_train, y:y_train})\n",
        "print(\"W: %s b: %s loss: %s\"%(curr_W, curr_b, curr_loss))"
      ],
      "execution_count": 75,
      "outputs": [
        {
          "output_type": "stream",
          "text": [
            "W: [-0.9999969] b: [0.9999908] loss: 5.6999738e-11\n"
          ],
          "name": "stdout"
        }
      ]
    },
    {
      "cell_type": "code",
      "metadata": {
        "id": "pGsTfs6H1qLf"
      },
      "source": [
        ""
      ],
      "execution_count": null,
      "outputs": []
    },
    {
      "cell_type": "code",
      "metadata": {
        "id": "cHTcI61r1qNI"
      },
      "source": [
        ""
      ],
      "execution_count": null,
      "outputs": []
    },
    {
      "cell_type": "code",
      "metadata": {
        "id": "lBeR7ufl1qQJ"
      },
      "source": [
        ""
      ],
      "execution_count": null,
      "outputs": []
    },
    {
      "cell_type": "code",
      "metadata": {
        "id": "G77mKWaC1qRj"
      },
      "source": [
        ""
      ],
      "execution_count": null,
      "outputs": []
    },
    {
      "cell_type": "code",
      "metadata": {
        "id": "-gBKpAOr1qVb"
      },
      "source": [
        ""
      ],
      "execution_count": null,
      "outputs": []
    },
    {
      "cell_type": "code",
      "metadata": {
        "id": "AxLtqyS71qYQ"
      },
      "source": [
        ""
      ],
      "execution_count": null,
      "outputs": []
    },
    {
      "cell_type": "code",
      "metadata": {
        "id": "QzfCderYUueX"
      },
      "source": [
        ""
      ],
      "execution_count": null,
      "outputs": []
    }
  ]
}